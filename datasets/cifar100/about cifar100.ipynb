{
 "cells": [
  {
   "cell_type": "markdown",
   "id": "b16a4ca4",
   "metadata": {},
   "source": [
    "## CIFAR100 is made out of 50,000 training images and 10,000 test images. Total of 20 classes."
   ]
  },
  {
   "cell_type": "markdown",
   "id": "9e8a598e",
   "metadata": {},
   "source": [
    "### Instead of using the raw pixel vectors as inputs to models, it is more common to extract feature embeddings from them by using a pre-trained model."
   ]
  },
  {
   "cell_type": "markdown",
   "id": "8f079890",
   "metadata": {},
   "source": [
    "### i have alr extracted these embeddings, u just need to load these embeddings and then u can use them for inpts to ur models"
   ]
  },
  {
   "cell_type": "markdown",
   "id": "3c83c3cb",
   "metadata": {},
   "source": [
    "embeddings file is too big for github so i'll send in our group chat~"
   ]
  },
  {
   "cell_type": "code",
   "execution_count": 5,
   "id": "60a9cdfa",
   "metadata": {},
   "outputs": [],
   "source": [
    "import pickle\n",
    "with open('cifar100_resnet_features.pkl', 'rb') as f: #change file path if needed\n",
    "    data = pickle.load(f)"
   ]
  },
  {
   "cell_type": "code",
   "execution_count": null,
   "id": "dd134e43",
   "metadata": {},
   "outputs": [
    {
     "data": {
      "text/plain": [
       "((50000, 2048), (50000,), (10000, 2048), (10000,))"
      ]
     },
     "execution_count": 4,
     "metadata": {},
     "output_type": "execute_result"
    }
   ],
   "source": [
    "X_train = data[\"train_features\"] #2048 feature embeddings\n",
    "X_test = data[\"test_features\"]\n",
    "y_train = data[\"train_labels\"]\n",
    "y_test = data[\"test_labels\"]\n",
    "\n",
    "X_train.shape, y_train.shape, X_test.shape, y_test.shape"
   ]
  },
  {
   "cell_type": "code",
   "execution_count": null,
   "id": "b53aaec4",
   "metadata": {},
   "outputs": [
    {
     "data": {
      "text/plain": [
       "array([ 0,  1,  2,  3,  4,  5,  6,  7,  8,  9, 10, 11, 12, 13, 14, 15, 16,\n",
       "       17, 18, 19], dtype=int64)"
      ]
     },
     "execution_count": 7,
     "metadata": {},
     "output_type": "execute_result"
    }
   ],
   "source": [
    "import numpy as np\n",
    "#20 superclasses:\n",
    "np.unique(y_test)"
   ]
  }
 ],
 "metadata": {
  "kernelspec": {
   "display_name": "Python (venv)",
   "language": "python",
   "name": "venv"
  },
  "language_info": {
   "codemirror_mode": {
    "name": "ipython",
    "version": 3
   },
   "file_extension": ".py",
   "mimetype": "text/x-python",
   "name": "python",
   "nbconvert_exporter": "python",
   "pygments_lexer": "ipython3",
   "version": "3.11.9"
  }
 },
 "nbformat": 4,
 "nbformat_minor": 5
}
