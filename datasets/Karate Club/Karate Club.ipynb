{
 "cells": [
  {
   "cell_type": "code",
   "id": "initial_id",
   "metadata": {
    "collapsed": true,
    "ExecuteTime": {
     "end_time": "2025-09-22T07:03:36.011462Z",
     "start_time": "2025-09-22T07:03:29.834321Z"
    }
   },
   "source": [
    "from sympy.printing.pytorch import torch\n",
    "import networkx as nx\n",
    "import numpy as np\n",
    "from torch_geometric.datasets import KarateClub\n",
    "\n",
    "# Load dataset\n",
    "dataset = KarateClub()\n",
    "data = dataset[0]\n",
    "\n",
    "# Load the original NetworkX karate club dataset (has 2 labels)\n",
    "G = nx.karate_club_graph()\n",
    "\n",
    "# Ground truth: 0 = \"Mr. Hi\", 1 = \"Officer\"\n",
    "true_labels = np.array([0 if G.nodes[i]['club'] == 'Mr. Hi' else 1 for i in G.nodes()])\n",
    "\n",
    "# Get adjacency matrix\n",
    "A = nx.to_numpy_array(G)\n",
    "\n",
    "print(\"Adjacency matrix shape:\", A.shape)\n",
    "print(\"Number of nodes:\", len(G.nodes))\n",
    "print(\"Ground truth labels:\", true_labels)\n",
    "\n",
    "\n",
    "\n",
    "# For graph neural network method\n",
    "\n",
    "# Get indices of each class\n",
    "class0_idx = (data.y == 0).nonzero(as_tuple=True)[0]\n",
    "class1_idx = (data.y == 1).nonzero(as_tuple=True)[0]\n",
    "\n",
    "# Shuffle indices\n",
    "class0_idx = class0_idx[torch.randperm(len(class0_idx))]\n",
    "class1_idx = class1_idx[torch.randperm(len(class1_idx))]\n",
    "\n",
    "# Split 50% for train, 50% for test\n",
    "train_class0 = class0_idx[:len(class0_idx)//2]\n",
    "test_class0  = class0_idx[len(class0_idx)//2:]\n",
    "train_class1 = class1_idx[:len(class1_idx)//2]\n",
    "test_class1  = class1_idx[len(class1_idx)//2:]\n",
    "\n",
    "# Combine\n",
    "train_idx = torch.cat([train_class0, train_class1])\n",
    "test_idx  = torch.cat([test_class0, test_class1])\n",
    "\n",
    "# Make boolean masks\n",
    "train_mask = torch.zeros(data.num_nodes, dtype=torch.bool)\n",
    "test_mask = torch.zeros(data.num_nodes, dtype=torch.bool)\n",
    "train_mask[train_idx] = True\n",
    "test_mask[test_idx] = True\n",
    "\n",
    "# Save into data\n",
    "data.train_mask = train_mask\n",
    "data.test_mask = test_mask\n",
    "\n",
    "print(\"Train nodes:\", train_idx.tolist())\n",
    "print(\"Test nodes:\", test_idx.tolist())\n",
    "print(\"Class balance in train set:\", data.y[train_mask].bincount().tolist())\n",
    "print(\"Class balance in test set:\", data.y[test_mask].bincount().tolist())\n"
   ],
   "outputs": [
    {
     "name": "stdout",
     "output_type": "stream",
     "text": [
      "Adjacency matrix shape: (34, 34)\n",
      "Number of nodes: 34\n",
      "Ground truth labels: [0 0 0 0 0 0 0 0 0 1 0 0 0 0 1 1 0 0 1 0 1 0 1 1 1 1 1 1 1 1 1 1 1 1]\n",
      "Train nodes: [20, 23, 27, 30, 14, 15, 3, 12, 19, 0, 17, 9]\n",
      "Test nodes: [8, 18, 32, 26, 29, 22, 33, 13, 11, 21, 7, 1, 2]\n",
      "Class balance in train set: [6, 6]\n",
      "Class balance in test set: [7, 6]\n"
     ]
    }
   ],
   "execution_count": 1
  },
  {
   "metadata": {},
   "cell_type": "code",
   "outputs": [],
   "execution_count": null,
   "source": "",
   "id": "52c986fe62aaa7de"
  }
 ],
 "metadata": {
  "kernelspec": {
   "display_name": "Python 3",
   "language": "python",
   "name": "python3"
  },
  "language_info": {
   "codemirror_mode": {
    "name": "ipython",
    "version": 2
   },
   "file_extension": ".py",
   "mimetype": "text/x-python",
   "name": "python",
   "nbconvert_exporter": "python",
   "pygments_lexer": "ipython2",
   "version": "2.7.6"
  }
 },
 "nbformat": 4,
 "nbformat_minor": 5
}
